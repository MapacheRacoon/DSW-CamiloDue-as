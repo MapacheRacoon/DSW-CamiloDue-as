{
  "nbformat": 4,
  "nbformat_minor": 0,
  "metadata": {
    "colab": {
      "name": "ReconocimientoGenero .ipynb",
      "provenance": [],
      "collapsed_sections": []
    },
    "kernelspec": {
      "name": "python3",
      "display_name": "Python 3"
    },
    "language_info": {
      "name": "python"
    }
  },
  "cells": [
    {
      "cell_type": "code",
      "metadata": {
        "colab": {
          "base_uri": "https://localhost:8080/"
        },
        "id": "AHzcApEOrERP",
        "outputId": "150fbf84-7731-49e8-e7e6-c14d851b770c"
      },
      "source": [
        "from sklearn import tree # libreria de arbol de decicion \n",
        "\n",
        "clf = tree.DecisionTreeClassifier() # se inicializa el arbol de decicion\n",
        "\n",
        "\n",
        "lstDatosEntrada = [] # Vector para almacenar los datos ingresados por el usuario\n",
        "\n",
        "\n",
        "# Se solicitan los datos de entrada \n",
        "\n",
        "print(\"====================================================\")\n",
        "print(\"RESPONDA LAS SIGUENTES PREGUNTAS                  \")                    \n",
        "print(\"====================================================\")\n",
        "\n",
        "print(\"----------------------------------------------------\")\n",
        "altura = int(input(\"Ingrese la altura en (cm): \"))\n",
        "lstDatosEntrada.append(altura) # se adiciona el valor de la altura en el vector\n",
        "\n",
        "print(\"----------------------------------------------------\")\n",
        "peso = int(input(\"Ingrese el peso en (kg): \"))\n",
        "lstDatosEntrada.append(peso) # se adiciona el valor de la peso en el vector\n",
        "\n",
        "print(\"----------------------------------------------------\")\n",
        "tallaZapato = int(input(\"Ingrese la talla en zapato: \"))\n",
        "lstDatosEntrada.append(tallaZapato) # se adiciona el valor de la tallazapato en el vector\n",
        "\n",
        "print(\"----------------------------------------------------\")\n",
        "print(\"Longitud aproximada de su brazo:\")\n",
        "print(\"Ingrese 1: si la longitud del brazo mide entre 50 y 55 cm.\")\n",
        "print(\"Ingrese 2: si la longitud del brazo mide entre 56 y 60 cm.\")\n",
        "longitudBrazo = int(input(\"Ingrese el valor de la opción: \"))  # se adiciona el valor de la longitudaproximado en el vector\n",
        "lstDatosEntrada.append(longitudBrazo)\n",
        "print(\"----------------------------------------------------\")\n",
        "#Se crea la instancia del árbol de decisión.\n",
        "\n",
        "\n",
        "# [altura, peso, talla de zapato, medida del brazo]\n",
        "X = [[181, 80, 44, 2], [177, 70, 43, 2], [160, 60, 38, 1], [154, 54, 37, 1]\n",
        "     ,[166, 65, 40, 2], [190, 90, 47, 2], [175, 64, 39, 1], [177, 70, 40, 1]\n",
        "     ,[159, 55, 37, 1], [171, 75, 42, 2], [181, 85, 43, 2], [167, 70, 37, 1]\n",
        "     ,[152, 51, 34, 1], [185, 85, 43, 2], [175, 60, 41, 2], [174, 59, 42, 2]\n",
        "     ,[165, 90, 39, 2], [165, 75, 39, 2], [165, 70, 37, 1], [166, 65, 36, 1]\n",
        "     ,[157, 55, 37, 1], [166, 86, 39, 2], [160, 75, 38, 1], [200, 75, 42, 1]\n",
        "     ,[167, 78, 39, 2], [165, 90, 37, 1], [150, 45, 37, 2], [175, 50, 37, 1]]\n",
        "\n",
        "# La salida donde se dice si es hombre o mujer\n",
        "Y = ['hombre', 'hombre', 'mujer', 'mujer'\n",
        "  , 'hombre', 'hombre', 'mujer', 'mujer'\n",
        "  , 'mujer', 'hombre', 'hombre', 'mujer'\n",
        "  , 'mujer', 'hombre', 'hombre', 'hombre'\n",
        "  , 'hombre','hombre', 'mujer', 'mujer'\n",
        "  , 'mujer', 'hombre', 'mujer',  'mujer'\n",
        "  , 'hombre', 'mujer', 'hombre', 'mujer']\n",
        "\n",
        "#Se le pasa los datos  X y Y\n",
        "clf = clf.fit(X, Y)\n",
        "\n",
        "# Se procesan los datos ingresados por el usuario\n",
        "prediction = clf.predict([lstDatosEntrada])\n",
        "\n",
        "# Se muestra el resultado de la predicción de los datos ingresados\n",
        "\n",
        "print()\n",
        "print(\"*********************************************************************************\")\n",
        "print(f\"*Las características ingresadas corresponden a una persona de sexo: {prediction}  *\")\n",
        "print(\"*********************************************************************************\")\n",
        "\n"
      ],
      "execution_count": null,
      "outputs": [
        {
          "output_type": "stream",
          "text": [
            "====================================================\n",
            "RESPONDA LAS SIGUENTES PREGUNTAS                  \n",
            "====================================================\n",
            "----------------------------------------------------\n",
            "Ingrese la altura en (cm): 500\n",
            "----------------------------------------------------\n",
            "Ingrese el peso en (kg): 70\n",
            "----------------------------------------------------\n",
            "Ingrese la talla en zapato: 45\n",
            "----------------------------------------------------\n",
            "Longitud aproximada de su brazo:\n",
            "Ingrese 1: si la longitud del brazo mide entre 50 y 55 cm.\n",
            "Ingrese 2: si la longitud del brazo mide entre 56 y 60 cm.\n",
            "Ingrese el valor de la opción: 2\n",
            "----------------------------------------------------\n",
            "\n",
            "*********************************************************************************\n",
            "*Las características ingresadas corresponden a una persona de sexo: ['hombre']  *\n",
            "*********************************************************************************\n"
          ],
          "name": "stdout"
        }
      ]
    }
  ]
}